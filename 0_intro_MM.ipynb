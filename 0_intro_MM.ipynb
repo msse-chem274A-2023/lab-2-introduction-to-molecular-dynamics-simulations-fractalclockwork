
        <script>
        try {
            parent.$('#loginContainer').foundation('open')
            }
        catch (e) {
            console.error (e);
            window.location.href = '/login?redirect=/jupyterhub_internal/hub/api/oauth2/authorize?client_id=jupyterhub-user-e082353d44c8cef5e9b3a236aac5b84a&redirect_uri=%2Fjupyterhub_internal%2Fuser%2Fe082353d44c8cef5e9b3a236aac5b84a%2Foauth_callback&response_type=code&state=eyJ1dWlkIjogImQ0NzQ1YjZjZDRmMzQ3NjVhNzMwYTExYmU4ODViOTBmIiwgIm5leHRfdXJsIjogIi9qdXB5dGVyaHViX2ludGVybmFsL3VzZXIvZTA4MjM1M2Q0NGM4Y2VmNWU5YjNhMjM2YWFjNWI4NGEvbm90ZWJvb2tzL2xhYi0yLWludHJvZHVjdGlvbi10by1tb2xlY3VsYXItZHluYW1pY3Mtc2ltdWxhdGlvbnMtZnJhY3RhbGNsb2Nrd29yay5naXQvMF9pbnRyb19NTS5pcHluYiJ9';
        }

        </script>
        